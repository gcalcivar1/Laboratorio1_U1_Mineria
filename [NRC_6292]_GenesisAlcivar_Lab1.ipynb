{
 "cells": [
  {
   "cell_type": "code",
   "execution_count": 4,
   "id": "e8cc7a6f",
   "metadata": {},
   "outputs": [
    {
     "name": "stdout",
     "output_type": "stream",
     "text": [
      "Empezamos importando las librerìas que se va a utilizar\n"
     ]
    }
   ],
   "source": [
    "def librerias():\n",
    "\n",
    "    '''Empezamos importando las librerìas que se va a utilizar'''\n",
    "\n",
    "from sklearn import datasets\n",
    "from sklearn.model_selection import train_test_split\n",
    "from sklearn import svm\n",
    "from sklearn.svm import SVC\n",
    "from sklearn import metrics\n",
    "import matplotlib.pyplot as plt\n",
    "import seaborn as sn\n",
    "import pandas as pd\n",
    "from numpy import array\n",
    "\n",
    "print(librerias.__doc__)"
   ]
  },
  {
   "cell_type": "code",
   "execution_count": 9,
   "id": "b129cedd",
   "metadata": {},
   "outputs": [
    {
     "name": "stdout",
     "output_type": "stream",
     "text": [
      " Creamos la funciòn para importar el Dataset acerca de los diferentes Vinos de la librerìa scikit-learn \n"
     ]
    }
   ],
   "source": [
    "def importarData():\n",
    "    \n",
    "    ''' Creamos la funciòn para importar el Dataset acerca de los diferentes Vinos de la librerìa scikit-learn '''\n",
    "\n",
    "df = datasets.load_wine()\n",
    "\n",
    "print(importarData.__doc__)"
   ]
  },
  {
   "cell_type": "code",
   "execution_count": 13,
   "id": "6073ba18",
   "metadata": {},
   "outputs": [
    {
     "name": "stdout",
     "output_type": "stream",
     "text": [
      "Features:\n",
      " ['alcohol', 'malic_acid', 'ash', 'alcalinity_of_ash', 'magnesium', 'total_phenols', 'flavanoids', 'nonflavanoid_phenols', 'proanthocyanins', 'color_intensity', 'hue', 'od280/od315_of_diluted_wines', 'proline'] \n",
      "\n",
      " Mandamos a imprimir las caracteristicas(X) con las que cuenta el Dataset\n"
     ]
    }
   ],
   "source": [
    "def imprimirCaract():\n",
    "    \n",
    "    ''' Mandamos a imprimir las caracteristicas(X) con las que cuenta el Dataset'''\n",
    "\n",
    "print(\"Features:\\n\", df.feature_names, '\\n')\n",
    "\n",
    "print(imprimirCaract.__doc__)"
   ]
  },
  {
   "cell_type": "code",
   "execution_count": 14,
   "id": "b7b85963",
   "metadata": {},
   "outputs": [
    {
     "name": "stdout",
     "output_type": "stream",
     "text": [
      "Labels:\n",
      " ['class_0' 'class_1' 'class_2'] \n",
      "\n",
      " Mandamos a imprimir las etiquetas(y) con las que cuenta el Dataset\n"
     ]
    }
   ],
   "source": [
    "def imprimirEtiq():\n",
    "    \n",
    "    ''' Mandamos a imprimir las etiquetas(y) con las que cuenta el Dataset'''\n",
    "\n",
    "print(\"Labels:\\n\", df.target_names, '\\n')\n",
    "\n",
    "print(imprimirEtiq.__doc__)"
   ]
  },
  {
   "cell_type": "code",
   "execution_count": 16,
   "id": "6d8cb1c6",
   "metadata": {},
   "outputs": [
    {
     "name": "stdout",
     "output_type": "stream",
     "text": [
      "Shape:\n",
      " (178, 13) \n",
      "\n",
      " Mandamos a imprimir el nùmero exactos de datos  que existen en el Dataset\n"
     ]
    }
   ],
   "source": [
    "def imprimirNum():\n",
    "    \n",
    "    ''' Mandamos a imprimir el nùmero exactos de datos  que existen en el Dataset'''\n",
    "\n",
    "print(\"Shape:\\n\", df.data.shape, '\\n')\n",
    "    \n",
    "print(imprimirNum.__doc__)"
   ]
  },
  {
   "cell_type": "code",
   "execution_count": 18,
   "id": "8246ea5b",
   "metadata": {},
   "outputs": [
    {
     "name": "stdout",
     "output_type": "stream",
     "text": [
      "Top five records:\n",
      " [[1.423e+01 1.710e+00 2.430e+00 1.560e+01 1.270e+02 2.800e+00 3.060e+00\n",
      "  2.800e-01 2.290e+00 5.640e+00 1.040e+00 3.920e+00 1.065e+03]\n",
      " [1.320e+01 1.780e+00 2.140e+00 1.120e+01 1.000e+02 2.650e+00 2.760e+00\n",
      "  2.600e-01 1.280e+00 4.380e+00 1.050e+00 3.400e+00 1.050e+03]\n",
      " [1.316e+01 2.360e+00 2.670e+00 1.860e+01 1.010e+02 2.800e+00 3.240e+00\n",
      "  3.000e-01 2.810e+00 5.680e+00 1.030e+00 3.170e+00 1.185e+03]\n",
      " [1.437e+01 1.950e+00 2.500e+00 1.680e+01 1.130e+02 3.850e+00 3.490e+00\n",
      "  2.400e-01 2.180e+00 7.800e+00 8.600e-01 3.450e+00 1.480e+03]\n",
      " [1.324e+01 2.590e+00 2.870e+00 2.100e+01 1.180e+02 2.800e+00 2.690e+00\n",
      "  3.900e-01 1.820e+00 4.320e+00 1.040e+00 2.930e+00 7.350e+02]] \n",
      "\n",
      " Se imprimen los 5 mejores records\n"
     ]
    }
   ],
   "source": [
    "def imprimirRec():\n",
    "    \n",
    "    ''' Se imprimen los 5 mejores records'''\n",
    "\n",
    "print(\"Top five records:\\n\", df.data[0:5], '\\n')\n",
    "    \n",
    "print(imprimirRec.__doc__)"
   ]
  },
  {
   "cell_type": "code",
   "execution_count": null,
   "id": "7518052a",
   "metadata": {},
   "outputs": [],
   "source": []
  }
 ],
 "metadata": {
  "kernelspec": {
   "display_name": "Python 3 (ipykernel)",
   "language": "python",
   "name": "python3"
  },
  "language_info": {
   "codemirror_mode": {
    "name": "ipython",
    "version": 3
   },
   "file_extension": ".py",
   "mimetype": "text/x-python",
   "name": "python",
   "nbconvert_exporter": "python",
   "pygments_lexer": "ipython3",
   "version": "3.9.12"
  }
 },
 "nbformat": 4,
 "nbformat_minor": 5
}
