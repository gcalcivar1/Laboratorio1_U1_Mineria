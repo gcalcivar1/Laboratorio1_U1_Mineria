{
 "cells": [
  {
   "cell_type": "code",
   "execution_count": 52,
   "id": "3424eebe",
   "metadata": {},
   "outputs": [
    {
     "name": "stdout",
     "output_type": "stream",
     "text": [
      "Empezamos importando las librerìas que se va a utilizar\n"
     ]
    }
   ],
   "source": [
    "def librerias():\n",
    "\n",
    "    '''Empezamos importando las librerìas que se va a utilizar'''\n",
    "\n",
    "from sklearn import datasets\n",
    "from sklearn.model_selection import train_test_split\n",
    "from sklearn import svm\n",
    "from sklearn.svm import SVC\n",
    "from sklearn import metrics\n",
    "import matplotlib.pyplot as plt\n",
    "import pandas as pd\n",
    "import numpy as np\n",
    "import seaborn as sn\n",
    "\n",
    "print(librerias.__doc__)"
   ]
  },
  {
   "cell_type": "code",
   "execution_count": 53,
   "id": "13e9c24b",
   "metadata": {},
   "outputs": [
    {
     "name": "stdout",
     "output_type": "stream",
     "text": [
      " Creamos la funciòn para importar el Dataset acerca de los diferentes Vinos de la librerìa scikit-learn \n"
     ]
    }
   ],
   "source": [
    "def importarData():\n",
    "    \n",
    "    ''' Creamos la funciòn para importar el Dataset acerca de los diferentes Vinos de la librerìa scikit-learn '''\n",
    "\n",
    "df = datasets.load_wine()\n",
    "\n",
    "print(importarData.__doc__)"
   ]
  },
  {
   "cell_type": "code",
   "execution_count": 54,
   "id": "e593967e",
   "metadata": {},
   "outputs": [
    {
     "name": "stdout",
     "output_type": "stream",
     "text": [
      "Features:\n",
      " ['alcohol', 'malic_acid', 'ash', 'alcalinity_of_ash', 'magnesium', 'total_phenols', 'flavanoids', 'nonflavanoid_phenols', 'proanthocyanins', 'color_intensity', 'hue', 'od280/od315_of_diluted_wines', 'proline'] \n",
      "\n",
      " Mandamos a imprimir las caracteristicas(X) con las que cuenta el Dataset\n"
     ]
    }
   ],
   "source": [
    "def imprimirCaract():\n",
    "    \n",
    "    ''' Mandamos a imprimir las caracteristicas(X) con las que cuenta el Dataset'''\n",
    "\n",
    "print(\"Features:\\n\", df.feature_names, '\\n')\n",
    "\n",
    "print(imprimirCaract.__doc__)"
   ]
  },
  {
   "cell_type": "code",
   "execution_count": 55,
   "id": "c4f53fc0",
   "metadata": {},
   "outputs": [
    {
     "name": "stdout",
     "output_type": "stream",
     "text": [
      "Labels:\n",
      " ['class_0' 'class_1' 'class_2'] \n",
      "\n",
      " Mandamos a imprimir las etiquetas(y) con las que cuenta el Dataset\n"
     ]
    }
   ],
   "source": [
    "def imprimirEtiq():\n",
    "    \n",
    "    ''' Mandamos a imprimir las etiquetas(y) con las que cuenta el Dataset'''\n",
    "\n",
    "print(\"Labels:\\n\", df.target_names, '\\n')\n",
    "\n",
    "print(imprimirEtiq.__doc__)"
   ]
  },
  {
   "cell_type": "code",
   "execution_count": 56,
   "id": "41847f10",
   "metadata": {},
   "outputs": [
    {
     "name": "stdout",
     "output_type": "stream",
     "text": [
      "Shape:\n",
      " (178, 13) \n",
      "\n",
      " Mandamos a imprimir el nùmero exactos de datos  que existen en el Dataset\n"
     ]
    }
   ],
   "source": [
    "def imprimirNum():\n",
    "    \n",
    "    ''' Mandamos a imprimir el nùmero exactos de datos  que existen en el Dataset'''\n",
    "\n",
    "print(\"Shape:\\n\", df.data.shape, '\\n')\n",
    "    \n",
    "print(imprimirNum.__doc__)"
   ]
  },
  {
   "cell_type": "code",
   "execution_count": 57,
   "id": "9e047e27",
   "metadata": {},
   "outputs": [
    {
     "name": "stdout",
     "output_type": "stream",
     "text": [
      "Top five records:\n",
      " [[1.423e+01 1.710e+00 2.430e+00 1.560e+01 1.270e+02 2.800e+00 3.060e+00\n",
      "  2.800e-01 2.290e+00 5.640e+00 1.040e+00 3.920e+00 1.065e+03]\n",
      " [1.320e+01 1.780e+00 2.140e+00 1.120e+01 1.000e+02 2.650e+00 2.760e+00\n",
      "  2.600e-01 1.280e+00 4.380e+00 1.050e+00 3.400e+00 1.050e+03]\n",
      " [1.316e+01 2.360e+00 2.670e+00 1.860e+01 1.010e+02 2.800e+00 3.240e+00\n",
      "  3.000e-01 2.810e+00 5.680e+00 1.030e+00 3.170e+00 1.185e+03]\n",
      " [1.437e+01 1.950e+00 2.500e+00 1.680e+01 1.130e+02 3.850e+00 3.490e+00\n",
      "  2.400e-01 2.180e+00 7.800e+00 8.600e-01 3.450e+00 1.480e+03]\n",
      " [1.324e+01 2.590e+00 2.870e+00 2.100e+01 1.180e+02 2.800e+00 2.690e+00\n",
      "  3.900e-01 1.820e+00 4.320e+00 1.040e+00 2.930e+00 7.350e+02]] \n",
      "\n",
      " Se imprimen los 5 mejores records\n"
     ]
    }
   ],
   "source": [
    "def imprimirRec():\n",
    "    \n",
    "    ''' Se imprimen los 5 mejores records'''\n",
    "\n",
    "print(\"Top five records:\\n\", df.data[0:5], '\\n')\n",
    "    \n",
    "print(imprimirRec.__doc__)"
   ]
  },
  {
   "cell_type": "code",
   "execution_count": 58,
   "id": "1408d0ac",
   "metadata": {},
   "outputs": [
    {
     "name": "stdout",
     "output_type": "stream",
     "text": [
      "[[1.423e+01 1.710e+00 2.430e+00 ... 1.040e+00 3.920e+00 1.065e+03]\n",
      " [1.320e+01 1.780e+00 2.140e+00 ... 1.050e+00 3.400e+00 1.050e+03]\n",
      " [1.316e+01 2.360e+00 2.670e+00 ... 1.030e+00 3.170e+00 1.185e+03]\n",
      " ...\n",
      " [1.327e+01 4.280e+00 2.260e+00 ... 5.900e-01 1.560e+00 8.350e+02]\n",
      " [1.317e+01 2.590e+00 2.370e+00 ... 6.000e-01 1.620e+00 8.400e+02]\n",
      " [1.413e+01 4.100e+00 2.740e+00 ... 6.100e-01 1.600e+00 5.600e+02]] \n",
      "\n",
      " Se define la variable X que en este caso son sus caracteristicas\n"
     ]
    }
   ],
   "source": [
    "def decX():\n",
    "    \n",
    "     ''' Se define la variable X que en este caso son sus caracteristicas'''\n",
    "    \n",
    "X= df.data\n",
    "print(X, '\\n')\n",
    "\n",
    "    \n",
    "    \n",
    "print(decX.__doc__)"
   ]
  },
  {
   "cell_type": "code",
   "execution_count": 59,
   "id": "e2a73f8b",
   "metadata": {},
   "outputs": [
    {
     "name": "stdout",
     "output_type": "stream",
     "text": [
      "[0 0 0 0 0 0 0 0 0 0 0 0 0 0 0 0 0 0 0 0 0 0 0 0 0 0 0 0 0 0 0 0 0 0 0 0 0\n",
      " 0 0 0 0 0 0 0 0 0 0 0 0 0 0 0 0 0 0 0 0 0 0 1 1 1 1 1 1 1 1 1 1 1 1 1 1 1\n",
      " 1 1 1 1 1 1 1 1 1 1 1 1 1 1 1 1 1 1 1 1 1 1 1 1 1 1 1 1 1 1 1 1 1 1 1 1 1\n",
      " 1 1 1 1 1 1 1 1 1 1 1 1 1 1 1 1 1 1 1 2 2 2 2 2 2 2 2 2 2 2 2 2 2 2 2 2 2\n",
      " 2 2 2 2 2 2 2 2 2 2 2 2 2 2 2 2 2 2 2 2 2 2 2 2 2 2 2 2 2 2] \n",
      "\n",
      " Se define la variable y que en este caso son sus etiquetas\n"
     ]
    }
   ],
   "source": [
    "def decY():\n",
    "    \n",
    "     ''' Se define la variable y que en este caso son sus etiquetas'''\n",
    "    \n",
    "y= df.target\n",
    "print(y, '\\n')\n",
    "    \n",
    "    \n",
    "print(decY.__doc__)"
   ]
  },
  {
   "cell_type": "code",
   "execution_count": 60,
   "id": "4a93f1e3",
   "metadata": {},
   "outputs": [
    {
     "name": "stdout",
     "output_type": "stream",
     "text": [
      " Creamos la funciòn para poder entrenar el modelo, se toma el 70% de datos para entrenar\n",
      "y el 30% de datos se toma para realizar las pruebas al azar \n"
     ]
    }
   ],
   "source": [
    "def crearFunc():\n",
    "    \n",
    "    ''' Creamos la funciòn para poder entrenar el modelo, se toma el 70% de datos para entrenar\n",
    "y el 30% de datos se toma para realizar las pruebas al azar '''\n",
    "\n",
    "X_train, X_test, y_train, y_test = train_test_split(df.data, df.target, test_size=0.3, random_state=109)\n",
    "    \n",
    "print(crearFunc.__doc__)"
   ]
  },
  {
   "cell_type": "code",
   "execution_count": 61,
   "id": "599d12ae",
   "metadata": {},
   "outputs": [
    {
     "name": "stdout",
     "output_type": "stream",
     "text": [
      " Creamos la funciòn para crear al clasificador mediante el Kernel linear\n"
     ]
    }
   ],
   "source": [
    "def crearMod():\n",
    "    \n",
    "    ''' Creamos la funciòn para crear al clasificador mediante el Kernel linear'''\n",
    "\n",
    "clf = svm.SVC(kernel='linear')\n",
    "    \n",
    "print(crearMod.__doc__)"
   ]
  },
  {
   "cell_type": "code",
   "execution_count": 62,
   "id": "3b917e40",
   "metadata": {},
   "outputs": [
    {
     "name": "stdout",
     "output_type": "stream",
     "text": [
      " Se procede a entrenar el modelo y predecir la respuesta mediante las pruebas realizadas \n"
     ]
    }
   ],
   "source": [
    "def entrMod():\n",
    "    \n",
    "    ''' Se procede a entrenar el modelo y predecir la respuesta mediante las pruebas realizadas '''\n",
    "\n",
    "clf.fit(X_train, y_train)\n",
    "y_pred = clf.predict(X_test)\n",
    "\n",
    "    \n",
    "print(entrMod.__doc__)"
   ]
  },
  {
   "cell_type": "code",
   "execution_count": 63,
   "id": "8c5d4cd4",
   "metadata": {},
   "outputs": [
    {
     "name": "stdout",
     "output_type": "stream",
     "text": [
      "Accuracy: 0.9259259259259259 \n",
      "\n",
      " Se procede a evaluar el modelo entrenado mediante las metricas\n"
     ]
    }
   ],
   "source": [
    "def metAccu():\n",
    "    \n",
    "    ''' Se procede a evaluar el modelo entrenado mediante las metricas'''\n",
    "\n",
    "    ''' Se procede a imprimir la primera evaluaciòn la cuàl es mediante el Accuray'''\n",
    "\n",
    "print(\"Accuracy:\", metrics.accuracy_score(y_test, y_pred), '\\n')\n",
    "    \n",
    "print(metAccu.__doc__)"
   ]
  },
  {
   "cell_type": "code",
   "execution_count": 64,
   "id": "27c60a8d",
   "metadata": {},
   "outputs": [
    {
     "name": "stdout",
     "output_type": "stream",
     "text": [
      "Precision: 0.9361111111111112 \n",
      "\n",
      " Se procede a imprimir la segunda evaluaciòn la cuàl es mediante la Precision\n"
     ]
    }
   ],
   "source": [
    "def metPrec():\n",
    "    \n",
    "    ''' Se procede a imprimir la segunda evaluaciòn la cuàl es mediante la Precision'''\n",
    "\n",
    "print(\"Precision:\", metrics.precision_score(y_test, y_pred, average='macro'), '\\n')\n",
    "    \n",
    "print(metPrec.__doc__)"
   ]
  },
  {
   "cell_type": "code",
   "execution_count": 65,
   "id": "66890cd9",
   "metadata": {},
   "outputs": [
    {
     "name": "stdout",
     "output_type": "stream",
     "text": [
      "Recall: 0.9298245614035089 \n",
      "\n",
      " Se procede a imprimir la ùltima evaluaciòn la cuàl es mediante el Recall\n"
     ]
    }
   ],
   "source": [
    "def metRec():\n",
    "    \n",
    "    ''' Se procede a imprimir la ùltima evaluaciòn la cuàl es mediante el Recall'''\n",
    "\n",
    "print(\"Recall:\", metrics.recall_score(y_test, y_pred, average='macro'), '\\n')\n",
    "    \n",
    "print(metRec.__doc__)"
   ]
  },
  {
   "cell_type": "code",
   "execution_count": 66,
   "id": "580176f4",
   "metadata": {},
   "outputs": [
    {
     "name": "stdout",
     "output_type": "stream",
     "text": [
      " Creamos un array donde se toman los valores actuales obtenidos del Dataset y los valores predichos del Modelo\n"
     ]
    }
   ],
   "source": [
    "def CreaArray():\n",
    "    \n",
    "    ''' Creamos un array donde se toman los valores actuales obtenidos del Dataset y los valores predichos del Modelo'''\n",
    "\n",
    "data = {'y_Actual':    y_test,\n",
    "        'y_Predicted': y_pred}\n",
    "\n",
    "print(CreaArray.__doc__)"
   ]
  },
  {
   "cell_type": "code",
   "execution_count": 67,
   "id": "d124eb4d",
   "metadata": {},
   "outputs": [
    {
     "data": {
      "image/png": "[encoded data removed]",
      "text/plain": [
       "<Figure size 432x288 with 2 Axes>"
      ]
     },
     "metadata": {
      "needs_background": "light"
     },
     "output_type": "display_data"
    },
    {
     "name": "stdout",
     "output_type": "stream",
     "text": [
      " Creamos un array donde se toman los valores actuales obtenidos del Dataset y los valores predichos del Modelo\n"
     ]
    }
   ],
   "source": [
    "def crearDF():\n",
    "    \n",
    "    ''' Creamos el DataFrame a partir del array creado'''\n",
    "\n",
    "df = pd.DataFrame(data, columns=['y_Actual','y_Predicted'])\n",
    "confusion_matrix = pd.crosstab(df['y_Actual'], df['y_Predicted'], rownames=['Actual'], colnames=['Predicted'])\n",
    "\n",
    "sn.heatmap(confusion_matrix, annot=True)\n",
    "plt.show()\n",
    "\n",
    "print(CreaArray.__doc__)"
   ]
  },
  {
   "cell_type": "code",
   "execution_count": null,
   "id": "fdc0780d",
   "metadata": {},
   "outputs": [],
   "source": []
  }
 ],
 "metadata": {
  "kernelspec": {
   "display_name": "Python 3 (ipykernel)",
   "language": "python",
   "name": "python3"
  },
  "language_info": {
   "codemirror_mode": {
    "name": "ipython",
    "version": 3
   },
   "file_extension": ".py",
   "mimetype": "text/x-python",
   "name": "python",
   "nbconvert_exporter": "python",
   "pygments_lexer": "ipython3",
   "version": "3.9.12"
  }
 },
 "nbformat": 4,
 "nbformat_minor": 5
}
