{
 "cells": [
  {
   "cell_type": "code",
   "execution_count": 4,
   "id": "3e852748",
   "metadata": {},
   "outputs": [
    {
     "name": "stdout",
     "output_type": "stream",
     "text": [
      "Empezamos importando las librerìas que se va a utilizar\n"
     ]
    }
   ],
   "source": [
    "def librerias():\n",
    "\n",
    "    '''Empezamos importando las librerìas que se va a utilizar'''\n",
    "\n",
    "from sklearn import datasets\n",
    "from sklearn.model_selection import train_test_split\n",
    "from sklearn import svm\n",
    "from sklearn.svm import SVC\n",
    "from sklearn import metrics\n",
    "import matplotlib.pyplot as plt\n",
    "import seaborn as sn\n",
    "import pandas as pd\n",
    "from numpy import array\n",
    "\n",
    "print(librerias.__doc__)"
   ]
  },
  {
   "cell_type": "code",
   "execution_count": 9,
   "id": "5b602f37",
   "metadata": {},
   "outputs": [
    {
     "name": "stdout",
     "output_type": "stream",
     "text": [
      " Creamos la funciòn para importar el Dataset acerca de los diferentes Vinos de la librerìa scikit-learn \n"
     ]
    }
   ],
   "source": [
    "def importarData():\n",
    "    \n",
    "    ''' Creamos la funciòn para importar el Dataset acerca de los diferentes Vinos de la librerìa scikit-learn '''\n",
    "\n",
    "df = datasets.load_wine()\n",
    "\n",
    "print(importarData.__doc__)"
   ]
  },
  {
   "cell_type": "code",
   "execution_count": 13,
   "id": "e7db00aa",
   "metadata": {},
   "outputs": [
    {
     "name": "stdout",
     "output_type": "stream",
     "text": [
      "Features:\n",
      " ['alcohol', 'malic_acid', 'ash', 'alcalinity_of_ash', 'magnesium', 'total_phenols', 'flavanoids', 'nonflavanoid_phenols', 'proanthocyanins', 'color_intensity', 'hue', 'od280/od315_of_diluted_wines', 'proline'] \n",
      "\n",
      " Mandamos a imprimir las caracteristicas(X) con las que cuenta el Dataset\n"
     ]
    }
   ],
   "source": [
    "def imprimirCaract():\n",
    "    \n",
    "    ''' Mandamos a imprimir las caracteristicas(X) con las que cuenta el Dataset'''\n",
    "\n",
    "print(\"Features:\\n\", df.feature_names, '\\n')\n",
    "\n",
    "print(imprimirCaract.__doc__)"
   ]
  },
  {
   "cell_type": "code",
   "execution_count": 14,
   "id": "a1719e46",
   "metadata": {},
   "outputs": [
    {
     "name": "stdout",
     "output_type": "stream",
     "text": [
      "Labels:\n",
      " ['class_0' 'class_1' 'class_2'] \n",
      "\n",
      " Mandamos a imprimir las etiquetas(y) con las que cuenta el Dataset\n"
     ]
    }
   ],
   "source": [
    "def imprimirEtiq():\n",
    "    \n",
    "    ''' Mandamos a imprimir las etiquetas(y) con las que cuenta el Dataset'''\n",
    "\n",
    "print(\"Labels:\\n\", df.target_names, '\\n')\n",
    "\n",
    "print(imprimirEtiq.__doc__)"
   ]
  },
  {
   "cell_type": "code",
   "execution_count": null,
   "id": "16d5e5c3",
   "metadata": {},
   "outputs": [],
   "source": []
  }
 ],
 "metadata": {
  "kernelspec": {
   "display_name": "Python 3 (ipykernel)",
   "language": "python",
   "name": "python3"
  },
  "language_info": {
   "codemirror_mode": {
    "name": "ipython",
    "version": 3
   },
   "file_extension": ".py",
   "mimetype": "text/x-python",
   "name": "python",
   "nbconvert_exporter": "python",
   "pygments_lexer": "ipython3",
   "version": "3.9.12"
  }
 },
 "nbformat": 4,
 "nbformat_minor": 5
}
