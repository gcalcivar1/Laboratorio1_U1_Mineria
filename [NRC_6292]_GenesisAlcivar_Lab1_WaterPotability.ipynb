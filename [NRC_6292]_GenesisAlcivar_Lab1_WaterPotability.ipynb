{
 "cells": [
  {
   "cell_type": "code",
   "execution_count": 15,
   "id": "00d80936",
   "metadata": {},
   "outputs": [
    {
     "name": "stdout",
     "output_type": "stream",
     "text": [
      "Empezamos importando las librerìas que se va a utilizar\n"
     ]
    }
   ],
   "source": [
    "def librerias():\n",
    "\n",
    "    '''Empezamos importando las librerìas que se va a utilizar'''\n",
    "\n",
    "from sklearn import datasets\n",
    "from sklearn.model_selection import train_test_split\n",
    "from sklearn import svm\n",
    "from sklearn.svm import SVC\n",
    "from sklearn import metrics\n",
    "import pandas as pd\n",
    "import numpy as np\n",
    "import seaborn as sn\n",
    "import matplotlib.pyplot as plt\n",
    "\n",
    "print(librerias.__doc__)"
   ]
  },
  {
   "cell_type": "code",
   "execution_count": 16,
   "id": "04a9d213",
   "metadata": {},
   "outputs": [
    {
     "name": "stdout",
     "output_type": "stream",
     "text": [
      "            ph    Hardness        Solids  Chloramines     Sulfate  \\\n",
      "0     0.000000  204.890455  20791.318981     7.300212  368.516441   \n",
      "1     3.716080  129.422921  18630.057858     6.635246    0.000000   \n",
      "2     8.099124  224.236259  19909.541732     9.275884    0.000000   \n",
      "3     8.316766  214.373394  22018.417441     8.059332  356.886136   \n",
      "4     9.092223  181.101509  17978.986339     6.546600  310.135738   \n",
      "...        ...         ...           ...          ...         ...   \n",
      "3271  4.668102  193.681735  47580.991603     7.166639  359.948574   \n",
      "3272  7.808856  193.553212  17329.802160     8.061362    0.000000   \n",
      "3273  9.419510  175.762646  33155.578218     7.350233    0.000000   \n",
      "3274  5.126763  230.603758  11983.869376     6.303357    0.000000   \n",
      "3275  7.874671  195.102299  17404.177061     7.509306    0.000000   \n",
      "\n",
      "      Conductivity  Organic_carbon  Trihalomethanes  Turbidity  Potability  \n",
      "0       564.308654       10.379783        86.990970   2.963135           0  \n",
      "1       592.885359       15.180013        56.329076   4.500656           0  \n",
      "2       418.606213       16.868637        66.420093   3.055934           0  \n",
      "3       363.266516       18.436524       100.341674   4.628771           0  \n",
      "4       398.410813       11.558279        31.997993   4.075075           0  \n",
      "...            ...             ...              ...        ...         ...  \n",
      "3271    526.424171       13.894419        66.687695   4.435821           1  \n",
      "3272    392.449580       19.903225         0.000000   2.798243           1  \n",
      "3273    432.044783       11.039070        69.845400   3.298875           1  \n",
      "3274    402.883113       11.168946        77.488213   4.708658           1  \n",
      "3275    327.459760       16.140368        78.698446   2.309149           1  \n",
      "\n",
      "[3276 rows x 10 columns] \n",
      "\n",
      " Creamos la funciòn para importar el Dataset y para reemplazar los datos nulos por ceros \n"
     ]
    }
   ],
   "source": [
    "def importarData():\n",
    "    \n",
    "    ''' Creamos la funciòn para importar el Dataset y para reemplazar los datos nulos por ceros '''\n",
    "\n",
    "datos= pd.read_csv('water_potability.csv')\n",
    "datos= datos.fillna(0)\n",
    "print(datos, '\\n')\n",
    "\n",
    "print(importarData.__doc__)"
   ]
  },
  {
   "cell_type": "code",
   "execution_count": 17,
   "id": "6453b743",
   "metadata": {},
   "outputs": [
    {
     "name": "stdout",
     "output_type": "stream",
     "text": [
      " Se define la variable X que en este caso son sus caracteristicas y Y las etiquetas\n"
     ]
    }
   ],
   "source": [
    "def decX():\n",
    "    \n",
    "     ''' Se define la variable X que en este caso son sus caracteristicas y Y las etiquetas'''\n",
    "\n",
    "caracteristicas= ['ph', 'Hardness', 'Solids', 'Chloramines', 'Sulfate', 'Conductivity', \n",
    "                  'Organic_carbon', 'Trihalomethanes', 'Turbidity']\n",
    "X= datos[caracteristicas]\n",
    "\n",
    "    \n",
    "print(decX.__doc__)"
   ]
  },
  {
   "cell_type": "code",
   "execution_count": 18,
   "id": "d0aa0b74",
   "metadata": {},
   "outputs": [
    {
     "name": "stdout",
     "output_type": "stream",
     "text": [
      " Seguidamente escogemos la etiqueta la cual nos permitirà predecir un valor\n"
     ]
    }
   ],
   "source": [
    "def decY():\n",
    "    \n",
    "     ''' Seguidamente escogemos la etiqueta la cual nos permitirà predecir un valor'''\n",
    "y= datos['Potability']\n",
    "    \n",
    "    \n",
    "print(decY.__doc__)"
   ]
  },
  {
   "cell_type": "code",
   "execution_count": 19,
   "id": "8b144b3b",
   "metadata": {},
   "outputs": [
    {
     "name": "stdout",
     "output_type": "stream",
     "text": [
      "caracteristicas:\n",
      " ['ph', 'Hardness', 'Solids', 'Chloramines', 'Sulfate', 'Conductivity', 'Organic_carbon', 'Trihalomethanes', 'Turbidity'] \n",
      "\n",
      " Mandamos a imprimir las caracteristicas(X) con las que cuenta el Dataset\n"
     ]
    }
   ],
   "source": [
    "def imprimirCaract():\n",
    "    \n",
    "    ''' Mandamos a imprimir las caracteristicas(X) con las que cuenta el Dataset'''\n",
    "\n",
    "print(\"caracteristicas:\\n\", caracteristicas, '\\n')\n",
    "\n",
    "print(imprimirCaract.__doc__)"
   ]
  },
  {
   "cell_type": "code",
   "execution_count": 20,
   "id": "d2131ea7",
   "metadata": {},
   "outputs": [
    {
     "name": "stdout",
     "output_type": "stream",
     "text": [
      "Labels:\n",
      " 0       0\n",
      "1       0\n",
      "2       0\n",
      "3       0\n",
      "4       0\n",
      "       ..\n",
      "3271    1\n",
      "3272    1\n",
      "3273    1\n",
      "3274    1\n",
      "3275    1\n",
      "Name: Potability, Length: 3276, dtype: int64 \n",
      "\n",
      " Mandamos a imprimir las etiquetas(y) con las que cuenta el Dataset\n"
     ]
    }
   ],
   "source": [
    "def imprimirEtiq():\n",
    "    \n",
    "    ''' Mandamos a imprimir las etiquetas(y) con las que cuenta el Dataset'''\n",
    "\n",
    "print(\"Labels:\\n\", y, '\\n')\n",
    "\n",
    "print(imprimirEtiq.__doc__)"
   ]
  },
  {
   "cell_type": "code",
   "execution_count": 21,
   "id": "2e854127",
   "metadata": {},
   "outputs": [
    {
     "name": "stdout",
     "output_type": "stream",
     "text": [
      " Creamos la funciòn para poder entrenar el modelo, se toma el 70% de datos para entrenar\n",
      "y el 30% de datos se toma para realizar las pruebas al azar \n"
     ]
    }
   ],
   "source": [
    "def crearFunc():\n",
    "    \n",
    "    ''' Creamos la funciòn para poder entrenar el modelo, se toma el 70% de datos para entrenar\n",
    "y el 30% de datos se toma para realizar las pruebas al azar '''\n",
    "\n",
    "X_train, X_test, y_train, y_test = train_test_split(X, y, test_size=0.3, random_state=109)\n",
    "    \n",
    "print(crearFunc.__doc__)"
   ]
  },
  {
   "cell_type": "code",
   "execution_count": 22,
   "id": "4d91ce2b",
   "metadata": {},
   "outputs": [
    {
     "name": "stdout",
     "output_type": "stream",
     "text": [
      " Creamos la funciòn para crear al clasificador mediante el Kernel linear\n"
     ]
    }
   ],
   "source": [
    "def crearMod():\n",
    "    \n",
    "    ''' Creamos la funciòn para crear al clasificador mediante el Kernel linear'''\n",
    "\n",
    "clf = svm.SVC(kernel='linear')\n",
    "    \n",
    "print(crearMod.__doc__)"
   ]
  },
  {
   "cell_type": "code",
   "execution_count": 23,
   "id": "f3b6fdef",
   "metadata": {},
   "outputs": [
    {
     "name": "stdout",
     "output_type": "stream",
     "text": [
      " Se procede a entrenar el modelo y predecir la respuesta mediante las pruebas realizadas \n"
     ]
    }
   ],
   "source": [
    "def entrMod():\n",
    "    \n",
    "    ''' Se procede a entrenar el modelo y predecir la respuesta mediante las pruebas realizadas '''\n",
    "\n",
    "clf.fit(X, y)\n",
    "y_pred = clf.predict(X_test)\n",
    "\n",
    "    \n",
    "print(entrMod.__doc__)"
   ]
  },
  {
   "cell_type": "code",
   "execution_count": 24,
   "id": "a08117f6",
   "metadata": {},
   "outputs": [
    {
     "name": "stdout",
     "output_type": "stream",
     "text": [
      "Accuracy: 0.5778229908443541 \n",
      "\n",
      " Se procede a evaluar el modelo entrenado mediante las metricas\n"
     ]
    }
   ],
   "source": [
    "def metAccu():\n",
    "    \n",
    "    ''' Se procede a evaluar el modelo entrenado mediante las metricas'''\n",
    "\n",
    "    ''' Se procede a imprimir la primera evaluaciòn la cuàl es mediante el Accuray'''\n",
    "\n",
    "print(\"Accuracy:\", metrics.accuracy_score(y_test, y_pred), '\\n')\n",
    "    \n",
    "print(metAccu.__doc__)"
   ]
  },
  {
   "cell_type": "code",
   "execution_count": 25,
   "id": "12159077",
   "metadata": {},
   "outputs": [
    {
     "name": "stdout",
     "output_type": "stream",
     "text": [
      "Precision: 0.45632889798703513 \n",
      "\n",
      " Se procede a imprimir la segunda evaluaciòn la cuàl es mediante la Precision\n"
     ]
    }
   ],
   "source": [
    "def metPrec():\n",
    "    \n",
    "    ''' Se procede a imprimir la segunda evaluaciòn la cuàl es mediante la Precision'''\n",
    "\n",
    "print(\"Precision:\", metrics.precision_score(y_test, y_pred, average='macro'), '\\n')\n",
    "    \n",
    "print(metPrec.__doc__)"
   ]
  },
  {
   "cell_type": "code",
   "execution_count": 26,
   "id": "d590bf52",
   "metadata": {},
   "outputs": [
    {
     "name": "stdout",
     "output_type": "stream",
     "text": [
      "Recall: 0.4989125355762287 \n",
      "\n",
      " Se procede a imprimir la ùltima evaluaciòn la cuàl es mediante el Recall\n"
     ]
    }
   ],
   "source": [
    "def metRec():\n",
    "    \n",
    "    ''' Se procede a imprimir la ùltima evaluaciòn la cuàl es mediante el Recall'''\n",
    "\n",
    "print(\"Recall:\", metrics.recall_score(y_test, y_pred, average='macro'), '\\n')\n",
    "    \n",
    "print(metRec.__doc__)"
   ]
  },
  {
   "cell_type": "code",
   "execution_count": 27,
   "id": "c1e9a062",
   "metadata": {},
   "outputs": [
    {
     "name": "stdout",
     "output_type": "stream",
     "text": [
      " Creamos un array donde se toman los valores actuales obtenidos del Dataset y los valores predichos del Modelo\n"
     ]
    }
   ],
   "source": [
    "def CreaArray():\n",
    "    \n",
    "    ''' Creamos un array donde se toman los valores actuales obtenidos del Dataset y los valores predichos del Modelo'''\n",
    "\n",
    "data = {'y_Actual':    y,\n",
    "        'y_Predicted': y }\n",
    "\n",
    "print(CreaArray.__doc__)"
   ]
  },
  {
   "cell_type": "code",
   "execution_count": 28,
   "id": "19927549",
   "metadata": {},
   "outputs": [
    {
     "data": {
      "image/png": "[encoded data removed]",
      "text/plain": [
       "<Figure size 432x288 with 2 Axes>"
      ]
     },
     "metadata": {
      "needs_background": "light"
     },
     "output_type": "display_data"
    },
    {
     "name": "stdout",
     "output_type": "stream",
     "text": [
      " Creamos un array donde se toman los valores actuales obtenidos del Dataset y los valores predichos del Modelo\n"
     ]
    }
   ],
   "source": [
    "def crearDF():\n",
    "    \n",
    "    ''' Creamos el DataFrame a partir del array creado'''\n",
    "\n",
    "df = pd.DataFrame(data, columns=['y_Actual','y_Predicted'])\n",
    "confusion_matrix = pd.crosstab(df['y_Actual'], df['y_Predicted'], rownames=['Actual'], colnames=['Predicted'])\n",
    "\n",
    "sn.heatmap(confusion_matrix, annot=True)\n",
    "plt.show()\n",
    "\n",
    "print(CreaArray.__doc__)"
   ]
  },
  {
   "cell_type": "code",
   "execution_count": null,
   "id": "1dcea232",
   "metadata": {},
   "outputs": [],
   "source": []
  }
 ],
 "metadata": {
  "kernelspec": {
   "display_name": "Python 3 (ipykernel)",
   "language": "python",
   "name": "python3"
  },
  "language_info": {
   "codemirror_mode": {
    "name": "ipython",
    "version": 3
   },
   "file_extension": ".py",
   "mimetype": "text/x-python",
   "name": "python",
   "nbconvert_exporter": "python",
   "pygments_lexer": "ipython3",
   "version": "3.9.12"
  }
 },
 "nbformat": 4,
 "nbformat_minor": 5
}
